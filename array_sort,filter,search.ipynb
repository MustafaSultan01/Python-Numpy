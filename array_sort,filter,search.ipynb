{
 "cells": [
  {
   "cell_type": "code",
   "execution_count": 4,
   "id": "4746a42c-fc0d-47a8-a4cf-3b1b53e84fe2",
   "metadata": {},
   "outputs": [
    {
     "name": "stdout",
     "output_type": "stream",
     "text": [
      "[12 23 64 87 96]\n",
      "[[12 25 43]\n",
      " [31 50 54]]\n",
      "\n",
      "(array([4], dtype=int64),)\n",
      "(array([0, 1], dtype=int64), array([2, 2], dtype=int64))\n",
      "3\n",
      "[1 4]\n",
      "[10 30]\n",
      "\n",
      "[25 50]\n"
     ]
    }
   ],
   "source": [
    "import numpy as np\n",
    "\n",
    "a = np.array([87,23,64,96,12])\n",
    "b = np.array([[12,43,25],[54,31,50]])\n",
    "\n",
    "# Sorting\n",
    "c = np.sort(a)              # sorting done in ascending order.\n",
    "print (c)\n",
    "print (np.sort(b))          # each row is sorted.\n",
    "\n",
    "print()\n",
    "\n",
    "# Searching\n",
    "print (np.where(a == 12))      # returns index pos. where element is present.\n",
    "print (np.where(b % 5 == 0))   # In 2-d, returns [row indexes],[element indexes]. here, [0,1],[2,2]\n",
    "\n",
    "\n",
    "# \"np.searchsorted()\" offers a fast way to find indices to insert elements in a 'sorted array', ensuring the array’s order is maintained.\n",
    "# default insertion 'side = left'.\n",
    "# Syntax: (array, value, side = left or right, sorter=None)\n",
    "print (np.searchsorted(c,65))\n",
    "print (np.searchsorted(c,[23,90]))   \n",
    "\n",
    "\n",
    "# Filtering\n",
    "# Method 1:\n",
    "arr = np.array([10,20,30,40])\n",
    "mask = [True, False, True, False]     # only elements with 'True' position will be printed.\n",
    "new = arr[mask]\n",
    "print (new)\n",
    "print ()\n",
    "\n",
    "# Method 2:\n",
    "mask = (b < 55) & (b%5 == 0) \n",
    "new = b[mask]        # converts and returns 1-d array containing elements that satisfy the conditions.\n",
    "print (new)"
   ]
  },
  {
   "cell_type": "code",
   "execution_count": null,
   "id": "8ef899e1-28f4-4308-93e0-448f1eb2c797",
   "metadata": {},
   "outputs": [],
   "source": []
  }
 ],
 "metadata": {
  "kernelspec": {
   "display_name": "Python 3 (ipykernel)",
   "language": "python",
   "name": "python3"
  },
  "language_info": {
   "codemirror_mode": {
    "name": "ipython",
    "version": 3
   },
   "file_extension": ".py",
   "mimetype": "text/x-python",
   "name": "python",
   "nbconvert_exporter": "python",
   "pygments_lexer": "ipython3",
   "version": "3.11.7"
  }
 },
 "nbformat": 4,
 "nbformat_minor": 5
}
