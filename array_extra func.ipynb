{
 "cells": [
  {
   "cell_type": "code",
   "execution_count": 9,
   "id": "7dc17b8b-e2ab-4bb8-85a5-c6754e812ceb",
   "metadata": {},
   "outputs": [
    {
     "name": "stdout",
     "output_type": "stream",
     "text": [
      "[[1 3 5]\n",
      " [7 9 2]\n",
      " [4 6 8]]\n",
      "[10 30 50 40 20]\n"
     ]
    }
   ],
   "source": [
    "import numpy as np\n",
    "arr = np.array([[1,3,5],\n",
    "              [7,9,2],\n",
    "              [4,6,8]])\n",
    "print (arr)\n",
    "\n",
    "arr1 = np.array([10,30,50,40,20])\n",
    "print (arr1)"
   ]
  },
  {
   "cell_type": "code",
   "execution_count": 15,
   "id": "9706a839-e00e-4436-9754-909fd7dcf6a6",
   "metadata": {},
   "outputs": [
    {
     "name": "stdout",
     "output_type": "stream",
     "text": [
      "0\n",
      "2\n",
      "[0 4 1 3 2]\n",
      "0\n",
      "4\n",
      "[0 0 1]\n",
      "[0 2 0]\n",
      "[[0 1 2]\n",
      " [2 0 1]\n",
      " [0 1 2]]\n"
     ]
    }
   ],
   "source": [
    "# 'argmin()' returns index position of min value\n",
    "# 'argmax()' returns index position of max value\n",
    "# 'argsort()' returns index positions of the final sorted array.\n",
    "\n",
    "print (arr1.argmin())\n",
    "print (arr1.argmax())\n",
    "print (arr1.argsort())\n",
    "print (arr.argmin())           # convert array into 1-d, then returns the index position.\n",
    "print (arr.argmax())\n",
    "print (arr.argmin(axis = 0))\n",
    "print (arr.argmin(axis = 1))\n",
    "print (arr.argsort(axis = 1))"
   ]
  },
  {
   "cell_type": "code",
   "execution_count": 21,
   "id": "ceb51af5-67ac-425b-8b7b-4b1698692683",
   "metadata": {},
   "outputs": [
    {
     "name": "stdout",
     "output_type": "stream",
     "text": [
      "[[1 3 5]\n",
      " [7 9 0]\n",
      " [4 6 8]]\n",
      "8\n"
     ]
    }
   ],
   "source": [
    "# count non-zero elements:\n",
    "arr[1,2] = 0          # changing value at pos. row 1, column 2 to zero.\n",
    "print (arr)\n",
    "print (np.count_nonzero(arr))"
   ]
  },
  {
   "cell_type": "code",
   "execution_count": null,
   "id": "875db3b5-7c9f-4e49-a1fa-c7c5ac061f2b",
   "metadata": {},
   "outputs": [],
   "source": []
  }
 ],
 "metadata": {
  "kernelspec": {
   "display_name": "Python 3 (ipykernel)",
   "language": "python",
   "name": "python3"
  },
  "language_info": {
   "codemirror_mode": {
    "name": "ipython",
    "version": 3
   },
   "file_extension": ".py",
   "mimetype": "text/x-python",
   "name": "python",
   "nbconvert_exporter": "python",
   "pygments_lexer": "ipython3",
   "version": "3.11.7"
  }
 },
 "nbformat": 4,
 "nbformat_minor": 5
}
