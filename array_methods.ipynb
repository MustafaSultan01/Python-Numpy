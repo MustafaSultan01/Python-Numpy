{
 "cells": [
  {
   "cell_type": "code",
   "execution_count": 1,
   "id": "b5d5fe54-4a23-4f5d-bf9e-912e7a9104ac",
   "metadata": {},
   "outputs": [
    {
     "name": "stdout",
     "output_type": "stream",
     "text": [
      "[10 20 30 40]\n",
      "<class 'numpy.ndarray'>\n",
      "[[10 20 30 40]\n",
      " [50 60 70 80]\n",
      " [10 30 50 70]]\n",
      "\n",
      "\n",
      "[10 20 30]\n",
      "[10 20]\n",
      "10\n",
      "[20 30]\n",
      "[20 30 40]\n",
      "[40 30 20 10]\n",
      "\n",
      "\n",
      "[[20 30 40]\n",
      " [60 70 80]\n",
      " [30 50 70]]\n",
      "[80 70]\n",
      "[50 60]\n"
     ]
    }
   ],
   "source": [
    "import numpy as np\n",
    "\n",
    "arr = np.array([10,20,30,40])\n",
    "print (arr)\n",
    "print (type(arr))\n",
    "\n",
    "# Multi-dimensional array (Matrix)\n",
    "multi_arr = np.array([[10,20,30,40],[50,60,70,80],[10,30,50,70]])    # 2d array created\n",
    "print (multi_arr)\n",
    "print (\"\\n\")\n",
    "\n",
    "# Slicing of the array (same as we do in python) \n",
    "print (arr[0:3])\n",
    "print (arr[:2])\n",
    "print (arr[-4])\n",
    "print (arr[-3:-1])  \n",
    "print (arr[1:])\n",
    "print (arr[::-1])    # reverse of array printed\n",
    "print (\"\\n\")\n",
    "\n",
    "# Slicing of multi-dimensional array:\n",
    "print (multi_arr[0:3,1:4])    # from all 3 elements, slice index 1 to 4 (not included).\n",
    "print (multi_arr[1:3,3])      # from 2nd and 3rd element, return index 3.\n",
    "print (multi_arr[1,0:2])      # from 1st element, slice index element from 0:2."
   ]
  },
  {
   "cell_type": "code",
   "execution_count": 2,
   "id": "f45cd693-cddd-4f14-a311-76d5baabcc95",
   "metadata": {},
   "outputs": [
    {
     "name": "stdout",
     "output_type": "stream",
     "text": [
      "The dimension of array is: 3d\n",
      "[[[ 5 15 25]\n",
      "  [25 35 45]]\n",
      "\n",
      " [[ 2 12 22]\n",
      "  [22 32 42]]\n",
      "\n",
      " [[ 7 17 27]\n",
      "  [27 37 47]]]\n",
      "[[35 45]\n",
      " [32 42]]\n"
     ]
    }
   ],
   "source": [
    "import numpy as np\n",
    "\n",
    "# dimensions of array depends on the no. of brackets placed for array.\n",
    "multi_3d_arr = np.array([[[5,15,25],[25,35,45]],\n",
    "                        [[2,12,22],[22,32,42]],\n",
    "                        [[7,17,27],[27,37,47]]])\n",
    "\n",
    "print (f\"The dimension of array is: {multi_3d_arr.ndim}d\")   # \"name.ndim\" is used to tell dimension of array.\n",
    "print (multi_3d_arr)\n",
    "\n",
    "print (multi_3d_arr[:2,1,1:3])   # from 0th and 1st index element bundle, pick 1st index element, slice index 1 to 3.\n",
    "#print (len(multi_3d_arr))"
   ]
  },
  {
   "cell_type": "code",
   "execution_count": 3,
   "id": "2bbaa0ed-75db-488f-89bc-83eee188371c",
   "metadata": {},
   "outputs": [
    {
     "name": "stdout",
     "output_type": "stream",
     "text": [
      "[[10 20 30 40]\n",
      " [50 60 70 80]\n",
      " [10 30 50 70]]\n",
      "(3, 4)\n",
      "12\n",
      "int32\n",
      "3\n",
      "[['10' '20' '30' '40']\n",
      " ['50' '60' '70' '80']\n",
      " ['10' '30' '50' '70']]\n",
      "[[10 20]\n",
      " [30 40]\n",
      " [50 60]\n",
      " [70 80]\n",
      " [10 30]\n",
      " [50 70]]\n"
     ]
    }
   ],
   "source": [
    "import numpy as np\n",
    "\n",
    "arr1 = np.array([[10,20,30,40],[50,60,70,80],[10,30,50,70]])    # 2d array created\n",
    "print (arr1)\n",
    "\n",
    "print (np.shape(arr1))       # returns (no. of rows, no. of columns)\n",
    "print (np.size(arr1))        # returns total no. of elements present in the array.\n",
    "print (arr1.dtype)           # returns the datatype of array.\n",
    "print (len(arr1))            # no. of nested values of array.\n",
    "print (arr1.astype(str))     # convert data type of arr1 to string.\n",
    "print (arr1.reshape(6,2))    # re-arrange the elements in the 6x2 format. (keep in mind size of array before choosing the format)\n"
   ]
  },
  {
   "cell_type": "code",
   "execution_count": null,
   "id": "340a70bb-a3c7-413e-b3cd-c6b7dbfb579a",
   "metadata": {},
   "outputs": [],
   "source": []
  }
 ],
 "metadata": {
  "kernelspec": {
   "display_name": "Python 3 (ipykernel)",
   "language": "python",
   "name": "python3"
  },
  "language_info": {
   "codemirror_mode": {
    "name": "ipython",
    "version": 3
   },
   "file_extension": ".py",
   "mimetype": "text/x-python",
   "name": "python",
   "nbconvert_exporter": "python",
   "pygments_lexer": "ipython3",
   "version": "3.11.7"
  }
 },
 "nbformat": 4,
 "nbformat_minor": 5
}
