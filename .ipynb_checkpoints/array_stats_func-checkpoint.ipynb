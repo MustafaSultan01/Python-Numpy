{
 "cells": [
  {
   "cell_type": "code",
   "execution_count": 3,
   "id": "769ea503-c6b8-4572-93b6-34e990691056",
   "metadata": {},
   "outputs": [
    {
     "name": "stdout",
     "output_type": "stream",
     "text": [
      "181.16666666666666\n",
      "188.0\n",
      "21.224330901637916\n",
      "450.47222222222223\n",
      "188\n"
     ]
    }
   ],
   "source": [
    "import numpy as np\n",
    "food_quality = np.array([188,210,153,188,195,153])\n",
    "\n",
    "print (np.mean(food_quality))\n",
    "print (np.median(food_quality))\n",
    "print (np.std(food_quality))       # standard deviation is the square root of variance\n",
    "print (np.var(food_quality))       # variance is average spread defined with (unit)² \n",
    "\n",
    "import statistics as stats\n",
    "print (stats.mode(food_quality))     # mode is not a function of numpy library."
   ]
  },
  {
   "cell_type": "code",
   "execution_count": 17,
   "id": "98fa389c-31cc-4c2c-b60d-3b102f80c786",
   "metadata": {},
   "outputs": [
    {
     "name": "stdout",
     "output_type": "stream",
     "text": [
      "[[1.         0.89999125]\n",
      " [0.89999125 1.        ]]\n"
     ]
    }
   ],
   "source": [
    "# Correlation coefficient:\n",
    "# +1 represents proportional relationship\n",
    "# -1 represents inversely proportional relationship\n",
    "# 0 means no relationship.\n",
    "\n",
    "import numpy as np\n",
    "tobacco_consumption = np.array([30,50,10,30,50,40])\n",
    "death = np.array([100,130,40,94,136,78])\n",
    "\n",
    "print (np.corrcoef([tobacco_consumption,death]))      # positive correlations btw datasets."
   ]
  },
  {
   "cell_type": "code",
   "execution_count": 29,
   "id": "8ceef123-dda7-448f-a10a-ad86e1128a4f",
   "metadata": {},
   "outputs": [
    {
     "name": "stdout",
     "output_type": "stream",
     "text": [
      "[[ 1.         -0.98036686]\n",
      " [-0.98036686  1.        ]]\n"
     ]
    }
   ],
   "source": [
    "import numpy as np\n",
    "price = np.array([300,150,350,100,200])\n",
    "sale = np.array([7,20,5,25,13])\n",
    "\n",
    "print (np.corrcoef([price,sale]))          # negative correlation btw datasets."
   ]
  },
  {
   "cell_type": "code",
   "execution_count": null,
   "id": "f00ceca5-e284-4b9f-8f71-64a0feed0efd",
   "metadata": {},
   "outputs": [],
   "source": []
  }
 ],
 "metadata": {
  "kernelspec": {
   "display_name": "Python 3 (ipykernel)",
   "language": "python",
   "name": "python3"
  },
  "language_info": {
   "codemirror_mode": {
    "name": "ipython",
    "version": 3
   },
   "file_extension": ".py",
   "mimetype": "text/x-python",
   "name": "python",
   "nbconvert_exporter": "python",
   "pygments_lexer": "ipython3",
   "version": "3.11.7"
  }
 },
 "nbformat": 4,
 "nbformat_minor": 5
}
