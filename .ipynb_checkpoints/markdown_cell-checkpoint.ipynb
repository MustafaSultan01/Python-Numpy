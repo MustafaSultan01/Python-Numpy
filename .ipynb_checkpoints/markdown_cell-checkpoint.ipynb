{
 "cells": [
  {
   "cell_type": "code",
   "execution_count": null,
   "id": "96cf69c2-470c-4449-b5ac-a702a56699b5",
   "metadata": {},
   "outputs": [],
   "source": [
    "# Steps for the uses of markdown cell:\n",
    "# 1) Where 'code' is written... click on the dialog box and select markdown.\n",
    "#    This converts the given selected cell into markdown cell.\n",
    "\n",
    "# Use '#' to convert cell into Heading.\n",
    "# Use **abc** to convert cell into bold string of character.\n",
    "# For Italics... use *abc*\n",
    "# For bold + italics... use ***abc***"
   ]
  },
  {
   "cell_type": "markdown",
   "id": "b230011c-cf02-4220-96e1-e5c1a6f4e4b0",
   "metadata": {},
   "source": [
    "# Welcome to Markdown Cell"
   ]
  },
  {
   "cell_type": "markdown",
   "id": "837b961d-4e13-4d69-89d3-214b81e3dac1",
   "metadata": {},
   "source": [
    "**This is content inside the markdown cell in Bold.** "
   ]
  },
  {
   "cell_type": "markdown",
   "id": "67dec1f2-9db8-4331-ab16-a375d5fc221f",
   "metadata": {},
   "source": [
    "*This is content inside the markdown cell in Italics.*  "
   ]
  },
  {
   "cell_type": "markdown",
   "id": "23cca88f-ed8b-4775-9f38-a69c39b294b5",
   "metadata": {},
   "source": [
    "***This is content inside the markdown cell in Bold + Italics.*** "
   ]
  },
  {
   "cell_type": "code",
   "execution_count": null,
   "id": "8d4935bb-de1e-4d75-b794-5ae4d5d6b716",
   "metadata": {},
   "outputs": [],
   "source": []
  }
 ],
 "metadata": {
  "kernelspec": {
   "display_name": "Python 3 (ipykernel)",
   "language": "python",
   "name": "python3"
  },
  "language_info": {
   "codemirror_mode": {
    "name": "ipython",
    "version": 3
   },
   "file_extension": ".py",
   "mimetype": "text/x-python",
   "name": "python",
   "nbconvert_exporter": "python",
   "pygments_lexer": "ipython3",
   "version": "3.11.7"
  }
 },
 "nbformat": 4,
 "nbformat_minor": 5
}
