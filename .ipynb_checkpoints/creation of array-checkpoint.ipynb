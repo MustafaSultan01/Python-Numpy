{
 "cells": [
  {
   "cell_type": "code",
   "execution_count": 1,
   "id": "5af34a73-4203-4da6-8b25-22759b5812b4",
   "metadata": {},
   "outputs": [],
   "source": [
    "import numpy as np\n",
    "\n",
    "# Ways of creating array:\n",
    "# Conversion from other python structures (eg. list,tuples)\n",
    "# Intrinsic numpy array creation objects (eg. arange,ones,zeros etc.)\n",
    "# Reading arrays from disk.\n",
    "# Use of special library functions (eg. random)"
   ]
  },
  {
   "cell_type": "code",
   "execution_count": 2,
   "id": "708fdaad-0a2c-44d6-a3d1-c52c3f2fb578",
   "metadata": {},
   "outputs": [
    {
     "name": "stdout",
     "output_type": "stream",
     "text": [
      "[[0. 0. 0. 0. 0.]\n",
      " [0. 0. 0. 0. 0.]]\n"
     ]
    }
   ],
   "source": [
    "# In 'np.zeros', shape is passed for the array where each element will be 0. (default dtype = float)\n",
    "\n",
    "zero = np.zeros([2,5])\n",
    "print (zero)"
   ]
  },
  {
   "cell_type": "code",
   "execution_count": 3,
   "id": "710fedd2-ad45-49d6-ab31-1692f0fad329",
   "metadata": {},
   "outputs": [
    {
     "name": "stdout",
     "output_type": "stream",
     "text": [
      "[ 1  2  3  4  5  6  7  8  9 10 11 12 13 14]\n"
     ]
    }
   ],
   "source": [
    "# 'np.arange' works like range function, where elements from 1 to 14 will be present in array.\n",
    "\n",
    "print (np.arange(1,15))"
   ]
  },
  {
   "cell_type": "code",
   "execution_count": 4,
   "id": "e3d16578-c701-449e-83ed-4bb74d89544d",
   "metadata": {},
   "outputs": [
    {
     "name": "stdout",
     "output_type": "stream",
     "text": [
      "[15.   21.25 27.5  33.75 40.  ]\n"
     ]
    }
   ],
   "source": [
    "# 'np.linspace' returns (start no., end no., no. of elements present each having equal distance btw them)\n",
    "\n",
    "print (np.linspace(15,40,5))"
   ]
  },
  {
   "cell_type": "code",
   "execution_count": 5,
   "id": "41bbd6ef-3be7-46ad-b457-7b0394cdf8f6",
   "metadata": {},
   "outputs": [
    {
     "name": "stdout",
     "output_type": "stream",
     "text": [
      "[[1.54301619e-311 3.16202013e-322 0.00000000e+000 0.00000000e+000]\n",
      " [1.33511018e-306 5.15059400e-062 1.45098967e+165 1.42134480e+161]\n",
      " [1.85586821e-051 8.07452895e+169 3.88886509e-033 3.93284277e-061]]\n"
     ]
    }
   ],
   "source": [
    "# 'np.empty' returns empty array of given shape with random garbage values assigned by default.\n",
    "\n",
    "print (np.empty([3,4]))"
   ]
  },
  {
   "cell_type": "code",
   "execution_count": 14,
   "id": "8a9941c4-4ae4-48ff-8e40-6959d047de1e",
   "metadata": {},
   "outputs": [
    {
     "name": "stdout",
     "output_type": "stream",
     "text": [
      "[[1. 0. 0. ... 0. 0. 0.]\n",
      " [0. 1. 0. ... 0. 0. 0.]\n",
      " [0. 0. 1. ... 0. 0. 0.]\n",
      " ...\n",
      " [0. 0. 0. ... 1. 0. 0.]\n",
      " [0. 0. 0. ... 0. 1. 0.]\n",
      " [0. 0. 0. ... 0. 0. 1.]]\n"
     ]
    }
   ],
   "source": [
    "# 'np.identity(x)' return a identity matrix of x*x shape.\n",
    "\n",
    "print (np.identity(35))"
   ]
  },
  {
   "cell_type": "code",
   "execution_count": 28,
   "id": "57d1fd70-d04d-40db-bbca-d806626f8fc0",
   "metadata": {},
   "outputs": [
    {
     "name": "stdout",
     "output_type": "stream",
     "text": [
      "[ 1  2  3  4  5  6  7  8  9 10 11 12 13 14 15 16 17 18 19 20 21 22 23 24\n",
      " 25 26 27 28 29 30 31 32 33 34 35 36 37 38 39 40 41 42 43 44 45 46 47 48\n",
      " 49 50]\n",
      "(50,)\n",
      "\n",
      "[[ 1  2  3  4  5]\n",
      " [ 6  7  8  9 10]\n",
      " [11 12 13 14 15]\n",
      " [16 17 18 19 20]\n",
      " [21 22 23 24 25]\n",
      " [26 27 28 29 30]\n",
      " [31 32 33 34 35]\n",
      " [36 37 38 39 40]\n",
      " [41 42 43 44 45]\n",
      " [46 47 48 49 50]]\n",
      "(10, 5)\n",
      "\n",
      "[ 1  2  3  4  5  6  7  8  9 10 11 12 13 14 15 16 17 18 19 20 21 22 23 24\n",
      " 25 26 27 28 29 30 31 32 33 34 35 36 37 38 39 40 41 42 43 44 45 46 47 48\n",
      " 49 50]\n",
      "(50,)\n"
     ]
    }
   ],
   "source": [
    "# reshape to multi-dimensional array and then again converting back to 1-d array.\n",
    "\n",
    "arr = np.arange(1,51)\n",
    "print (arr)\n",
    "print (arr.shape)\n",
    "print ()\n",
    "arr = arr.reshape(10,5)\n",
    "print (arr)\n",
    "print (arr.shape)\n",
    "print ()\n",
    "arr = arr.ravel()      # converts multi-dimensions to 1-d array.\n",
    "print (arr)\n",
    "print (arr.shape)"
   ]
  },
  {
   "cell_type": "code",
   "execution_count": 34,
   "id": "bcd2ea89-40c5-4d96-a201-d600719bd13f",
   "metadata": {},
   "outputs": [
    {
     "name": "stdout",
     "output_type": "stream",
     "text": [
      "[[ 3  5  7]\n",
      " [ 6  9 10]\n",
      " [ 5  2  8]]\n",
      "\n",
      "[[ 3  6  5]\n",
      " [ 5  9  2]\n",
      " [ 7 10  8]]\n",
      "\n"
     ]
    }
   ],
   "source": [
    "array = np.array([[3,5,7],[6,9,10],[5,2,8]])\n",
    "print (array)\n",
    "print ()\n",
    "print (array.T)   # transpose the array i.e. converts rows into columns and columns into rows.\n",
    "print ()"
   ]
  },
  {
   "cell_type": "code",
   "execution_count": 40,
   "id": "4fe3440e-7830-4b5a-822b-d68cdf1de42e",
   "metadata": {},
   "outputs": [
    {
     "name": "stdout",
     "output_type": "stream",
     "text": [
      "3\n",
      "5\n",
      "7\n",
      "6\n",
      "9\n",
      "10\n",
      "5\n",
      "2\n",
      "8\n"
     ]
    }
   ],
   "source": [
    "# '.flat' function is used to convert the array into an iterative array because of which we can use loops.\n",
    "# It iterates the elements row-wise.\n",
    "\n",
    "iterate = array.flat\n",
    "for item in iterate:\n",
    "    print (item)"
   ]
  },
  {
   "cell_type": "code",
   "execution_count": null,
   "id": "582aeb3e-5c8c-4390-9550-d3c2a17e8ff8",
   "metadata": {},
   "outputs": [],
   "source": []
  }
 ],
 "metadata": {
  "kernelspec": {
   "display_name": "Python 3 (ipykernel)",
   "language": "python",
   "name": "python3"
  },
  "language_info": {
   "codemirror_mode": {
    "name": "ipython",
    "version": 3
   },
   "file_extension": ".py",
   "mimetype": "text/x-python",
   "name": "python",
   "nbconvert_exporter": "python",
   "pygments_lexer": "ipython3",
   "version": "3.11.7"
  }
 },
 "nbformat": 4,
 "nbformat_minor": 5
}
