{
 "cells": [
  {
   "cell_type": "code",
   "execution_count": 1,
   "id": "24ea805b-44d6-4078-b867-2760258a53ed",
   "metadata": {},
   "outputs": [],
   "source": [
    "import numpy as np"
   ]
  },
  {
   "cell_type": "code",
   "execution_count": 2,
   "id": "23d78704-d69f-458b-b9bf-5f0bf2c5d31b",
   "metadata": {},
   "outputs": [
    {
     "name": "stdout",
     "output_type": "stream",
     "text": [
      "[50, 60, 70, 20, 30, 40]\n",
      "[50, 60, 70, 50, 60, 70, 50, 60, 70, 50, 60, 70, 50, 60, 70]\n",
      "[[10, 20, 30, 40], [23, 13]]\n"
     ]
    }
   ],
   "source": [
    "# mathematical calculations are not performed on list:\n",
    "\n",
    "l1 = [50,60,70]\n",
    "l2 = [20,30,40]\n",
    "l3 = 5\n",
    "print (l1+l2)        # concatenation is done and not addition.\n",
    "print (l1*l3)        # multiplied printing of same list is done and not multiplication.\n",
    "\n",
    "# list can have any no. of elements in their dimensions\n",
    "l4 = [[10,20,30,40],[23,13]]\n",
    "print (l4)"
   ]
  },
  {
   "cell_type": "code",
   "execution_count": 3,
   "id": "bbf7b066-1964-4819-8654-8a3a60e86e9c",
   "metadata": {},
   "outputs": [
    {
     "name": "stdout",
     "output_type": "stream",
     "text": [
      "[ 70  90 110]\n",
      "[250 300 350]\n"
     ]
    }
   ],
   "source": [
    "# for mathematical direct calculations, we use arrays:\n",
    "\n",
    "l1 = np.array([50,60,70])      # \"np.array()\" is used to define arrays.\n",
    "l2 = np.array([20,30,40])\n",
    "l3 = np.array([5])\n",
    "print (l1+l2)\n",
    "print (l1*l3)"
   ]
  },
  {
   "cell_type": "code",
   "execution_count": 4,
   "id": "c8718690-611f-41d2-8ba7-e5adee36ddd5",
   "metadata": {
    "editable": true,
    "slideshow": {
     "slide_type": ""
    },
    "tags": []
   },
   "outputs": [
    {
     "name": "stdout",
     "output_type": "stream",
     "text": [
      "['20' '30' '60']\n"
     ]
    }
   ],
   "source": [
    "# if you keep multiple datatypes in a given array, all elements datatype will be converted.\n",
    "# for eg: if string datatype is entered, then all int elements will be converted to string.\n",
    "\n",
    "a = np.array([20,30,\"60\"])\n",
    "print (a)"
   ]
  },
  {
   "cell_type": "code",
   "execution_count": 5,
   "id": "e229b8d8-5bfd-4642-80c2-77e1c9ee96c0",
   "metadata": {},
   "outputs": [
    {
     "name": "stdout",
     "output_type": "stream",
     "text": [
      "[[20 30]\n",
      " [40 10]]\n"
     ]
    }
   ],
   "source": [
    "#a = np.array([[20,30],[40,10,50]])  # won't print bcz both dimensions should have same no. of elements.\n",
    "a = np.array([[20,30],[40,10]])\n",
    "print (a)"
   ]
  },
  {
   "cell_type": "code",
   "execution_count": 22,
   "id": "0f5d41a6-dc49-41d9-9077-09e15b992482",
   "metadata": {},
   "outputs": [
    {
     "name": "stdout",
     "output_type": "stream",
     "text": [
      "Before conversion:  [10, 20, 30, 40]\n",
      "After conversiion:  [10 20 30 40]\n",
      "[10 20 30 40]\n"
     ]
    }
   ],
   "source": [
    "list1 = [10,20,30,40]\n",
    "print (\"Before conversion: \",list1)\n",
    "list1 = np.array(list1)               # you can convert list into array in this manner.\n",
    "print (\"After conversiion: \",list1)\n",
    "\n",
    "print (np.asarray(list1))             # another method to convert list into array using 'np.asarray' function."
   ]
  },
  {
   "cell_type": "code",
   "execution_count": null,
   "id": "f21110b8-0176-4bf0-bc3d-6932add642cf",
   "metadata": {},
   "outputs": [],
   "source": []
  }
 ],
 "metadata": {
  "kernelspec": {
   "display_name": "Python 3 (ipykernel)",
   "language": "python",
   "name": "python3"
  },
  "language_info": {
   "codemirror_mode": {
    "name": "ipython",
    "version": 3
   },
   "file_extension": ".py",
   "mimetype": "text/x-python",
   "name": "python",
   "nbconvert_exporter": "python",
   "pygments_lexer": "ipython3",
   "version": "3.11.7"
  }
 },
 "nbformat": 4,
 "nbformat_minor": 5
}
