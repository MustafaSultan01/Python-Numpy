{
 "cells": [
  {
   "cell_type": "code",
   "execution_count": 6,
   "id": "9d9bfc83-3312-4d67-82ec-8c7fe362ba69",
   "metadata": {},
   "outputs": [
    {
     "name": "stdout",
     "output_type": "stream",
     "text": [
      "[ 60  80 100 120]\n",
      "[ 60  80 100 120]\n",
      "[-40 -40 -40 -40]\n",
      "[-40 -40 -40 -40]\n",
      "[ 500 1200 2100 3200]\n",
      "[ 500 1200 2100 3200]\n",
      "[0.2        0.33333333 0.42857143 0.5       ]\n",
      "[0.2        0.33333333 0.42857143 0.5       ]\n",
      "[ 100  400  900 1600]\n",
      "[ 100  400  900 1600]\n",
      "[7.07106781 7.74596669 8.36660027 8.94427191]\n",
      "[7 7 8 8]\n"
     ]
    }
   ],
   "source": [
    "import numpy as np\n",
    "\n",
    "a = [10,20,30,40]\n",
    "b = [50,60,70,80]\n",
    "arr1 = np.array(a)\n",
    "arr2 = np.array(b)\n",
    "arr3 = np.array([2])\n",
    "\n",
    "# addition using operation and function\n",
    "print (arr1 + arr2)\n",
    "print (np.add(arr1,arr2))\n",
    "\n",
    "# subtraction using operation and function\n",
    "print (arr1 - arr2)\n",
    "print (np.subtract(arr1,arr2))\n",
    "\n",
    "# multiply using operation and function\n",
    "print (arr1 * arr2)\n",
    "print (np.multiply(arr1,arr2))\n",
    "\n",
    "# division using operation and function\n",
    "print (arr1 / arr2)\n",
    "print (np.divide(arr1,arr2))\n",
    "\n",
    "# other operations:\n",
    "print (arr1 ** 2)\n",
    "print (np.power(arr1,arr3))\n",
    "\n",
    "c = np.sqrt(arr2)\n",
    "print (c)\n",
    "print (c.astype(int))"
   ]
  },
  {
   "cell_type": "code",
   "execution_count": null,
   "id": "52a0b33a-b450-4af8-ba9b-8832b4bba4be",
   "metadata": {},
   "outputs": [],
   "source": []
  }
 ],
 "metadata": {
  "kernelspec": {
   "display_name": "Python 3 (ipykernel)",
   "language": "python",
   "name": "python3"
  },
  "language_info": {
   "codemirror_mode": {
    "name": "ipython",
    "version": 3
   },
   "file_extension": ".py",
   "mimetype": "text/x-python",
   "name": "python",
   "nbconvert_exporter": "python",
   "pygments_lexer": "ipython3",
   "version": "3.11.7"
  }
 },
 "nbformat": 4,
 "nbformat_minor": 5
}
