{
 "cells": [
  {
   "cell_type": "code",
   "execution_count": 26,
   "id": "b651cd27-0334-4b97-81f5-f1bb03c2e224",
   "metadata": {},
   "outputs": [
    {
     "name": "stdout",
     "output_type": "stream",
     "text": [
      "[10 20 30 40 90]\n",
      "[ 10  20  30  40 100 120]\n",
      "[ 15  23  44  67  78  95 100 120 156]\n",
      "[10 20 25 30 40]\n",
      "[10 20 25 30 40 25]\n",
      "[15 99 21 23 44 67 78 95]\n",
      "\n",
      "[[ 15 102  23]\n",
      " [ 44 105  67]\n",
      " [ 78  27  95]]\n",
      "[[ 15  23]\n",
      " [ 44  67]\n",
      " [ 78  95]\n",
      " [102 105]]\n",
      "[[ 15  23]\n",
      " [102 102]\n",
      " [ 44  67]\n",
      " [ 78  95]]\n",
      "[[110 220]\n",
      " [ 15  23]\n",
      " [ 44  67]\n",
      " [110 220]\n",
      " [ 78  95]]\n"
     ]
    }
   ],
   "source": [
    "import numpy as np\n",
    "\n",
    "a = np.array([10,20,30,40])\n",
    "b = np.array([[15,23],[44,67],[78,95]])\n",
    "\n",
    "print (np.append(a,90))              # appending element at the end. Syntax: (array,value)\n",
    "print (np.append(a,[100,120]))       # appending multiple elements stored in a list.\n",
    "print (np.append(b,[100,120,156]))   # convert 2-d to 1-d, then append.\n",
    "\n",
    "print (np.insert(a,2,25))            # insert element at given index position. Syntax: (array,index,value)\n",
    "print (np.insert(a,[2,4],25))        # inserting same value at multiple indexes.\n",
    "print (np.insert(b,1,[99,21]))       # convert 2-d to 1-d, then insert.\n",
    "print ()\n",
    "\n",
    "# with the help of axes, the dimensions of array are not reduced.\n",
    "print (np.insert(b,1,[102,105,27],axis = 1))\n",
    "print (np.insert(b,3,[102,105],axis = 0))\n",
    "print (np.insert(b,1,[102],axis = 0))           # as each row has 2 columns, so '102' will be in all columns as only 1 value is given.\n",
    "print (np.insert(b,[0,2],[110,220],axis = 0))   # elements inserted at multiple index positions."
   ]
  },
  {
   "cell_type": "code",
   "execution_count": 38,
   "id": "5c19e9c7-ca8f-46a5-a4b8-7d17462e5838",
   "metadata": {},
   "outputs": [
    {
     "name": "stdout",
     "output_type": "stream",
     "text": [
      "[10]\n",
      "[15 23 67 78 95]\n",
      "[[15 23]\n",
      " [44 67]]\n",
      "[[23]\n",
      " [67]\n",
      " [95]]\n"
     ]
    }
   ],
   "source": [
    "# Removing \n",
    "import numpy as np\n",
    "\n",
    "a = np.array([10,20,30,40])\n",
    "b = np.array([[15,23],[44,67],[78,95]])\n",
    "\n",
    "# Syntax: (array,index)\n",
    "print (np.delete(a,range(1,4)))      # multiple elements are removed using range function.\n",
    "print (np.delete(b,2))               # convert 2-d to 1-d, then delete.\n",
    "print (np.delete(b,2,axis = 0))      \n",
    "print (np.delete(b,0,axis = 1))"
   ]
  },
  {
   "cell_type": "code",
   "execution_count": null,
   "id": "23919aef-87d4-4b95-9f61-9edc489bcb85",
   "metadata": {},
   "outputs": [],
   "source": []
  }
 ],
 "metadata": {
  "kernelspec": {
   "display_name": "Python 3 (ipykernel)",
   "language": "python",
   "name": "python3"
  },
  "language_info": {
   "codemirror_mode": {
    "name": "ipython",
    "version": 3
   },
   "file_extension": ".py",
   "mimetype": "text/x-python",
   "name": "python",
   "nbconvert_exporter": "python",
   "pygments_lexer": "ipython3",
   "version": "3.11.7"
  }
 },
 "nbformat": 4,
 "nbformat_minor": 5
}
