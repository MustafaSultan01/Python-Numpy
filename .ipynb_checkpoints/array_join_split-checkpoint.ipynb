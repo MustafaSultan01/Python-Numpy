{
 "cells": [
  {
   "cell_type": "code",
   "execution_count": 1,
   "id": "440247e8-4dad-4673-ac71-b754c177d5a6",
   "metadata": {},
   "outputs": [
    {
     "name": "stdout",
     "output_type": "stream",
     "text": [
      "[[23, 33, 43], [12, 22, 32], [15, 25, 35], [11, 21, 31]]\n",
      "[[23 33 43]\n",
      " [12 22 32]\n",
      " [15 25 35]\n",
      " [11 21 31]]\n",
      "[[23 33 43 15 25 35]\n",
      " [12 22 32 11 21 31]]\n",
      "[[23 33 43]\n",
      " [12 22 32]\n",
      " [15 25 35]\n",
      " [11 21 31]]\n"
     ]
    }
   ],
   "source": [
    "# Joining\n",
    "import numpy as np\n",
    "\n",
    "a = [[23,33,43],[12,22,32]]\n",
    "b = [[15,25,35],[11,21,31]]\n",
    "arr1 = np.array(a)\n",
    "arr2 = np.array(b)\n",
    "\n",
    "print (a+b)                            # concatenation of lists.\n",
    "print (np.concatenate([arr1,arr2]))    # concatenation of arrays.\n",
    "\n",
    "# for horizontal concatenation:\n",
    "print (np.concatenate([arr1,arr2],axis = 1))\n",
    "\n",
    "# for vertical concatenation:\n",
    "print (np.concatenate([arr1,arr2],axis = 0))"
   ]
  },
  {
   "cell_type": "code",
   "execution_count": 2,
   "id": "7562fec0-ef68-4b54-9e6d-5a60748fc178",
   "metadata": {},
   "outputs": [
    {
     "name": "stdout",
     "output_type": "stream",
     "text": [
      "[10 20 30 40 50 60]\n",
      "[array([10, 20]), array([30, 40]), array([50, 60])]\n",
      "[array([10, 20]), array([30]), array([40]), array([50]), array([60])]\n",
      "[[15 20 25]\n",
      " [40 45 50]]\n",
      "[array([[15, 20, 25]]), array([[40, 45, 50]])]\n",
      "[array([[15, 20, 25]]), array([[40, 45, 50]]), array([], shape=(0, 3), dtype=int32)]\n"
     ]
    }
   ],
   "source": [
    "# Splitting\n",
    "import numpy as np\n",
    "\n",
    "abc = np.array([10,20,30,40,50,60])\n",
    "pqr = np.array([[15,20,25],[40,45,50]])\n",
    "\n",
    "# splitting of 1-d array:\n",
    "print (abc)\n",
    "print (np.array_split(abc,3))    # split 'abc' array in 3 parts\n",
    "print (np.array_split(abc,5))\n",
    "\n",
    "# splitting of 2-d array:\n",
    "print (pqr)\n",
    "print (np.array_split(pqr,2))\n",
    "print (np.array_split(pqr,3))    # given array doesn't have 3 rows and hence it is splitted in 2 rows and an \n",
    "                                 # empty row (showing empty list along with its 'shape' & 'dtype')\n"
   ]
  },
  {
   "cell_type": "code",
   "execution_count": 3,
   "id": "c792ab3a-1399-4623-a8f7-8cc8649a383f",
   "metadata": {},
   "outputs": [
    {
     "name": "stdout",
     "output_type": "stream",
     "text": [
      "(4, 2, 2)\n",
      "[[[ 1  2]\n",
      "  [ 3  4]]\n",
      "\n",
      " [[ 5  6]\n",
      "  [ 7  8]]\n",
      "\n",
      " [[ 9 10]\n",
      "  [11 12]]\n",
      "\n",
      " [[13 14]\n",
      "  [15 16]]]\n",
      "(2, 4, 2)\n",
      "[[[ 1  2]\n",
      "  [ 3  4]\n",
      "  [ 9 10]\n",
      "  [11 12]]\n",
      "\n",
      " [[ 5  6]\n",
      "  [ 7  8]\n",
      "  [13 14]\n",
      "  [15 16]]]\n",
      "(2, 2, 4)\n",
      "[[[ 1  2  9 10]\n",
      "  [ 3  4 11 12]]\n",
      "\n",
      " [[ 5  6 13 14]\n",
      "  [ 7  8 15 16]]]\n"
     ]
    }
   ],
   "source": [
    "# Additional example\n",
    "\n",
    "import numpy as np\n",
    "\n",
    "array3 = np.array([[[1, 2], [3, 4]], \n",
    "                   [[5, 6], [7, 8]]])\n",
    "\n",
    "array4 = np.array([[[9, 10], [11, 12]], \n",
    "                   [[13, 14], [15, 16]]])\n",
    "\n",
    "# Concatenation along axis 0\n",
    "result = np.concatenate((array3, array4), axis=0)\n",
    "print(result.shape)  # Output: (4, 2, 2)   [4 blocks with 2 rows and 2 columns each]\n",
    "print (result)\n",
    "\n",
    "# Concatenation along axis 1\n",
    "result = np.concatenate((array3, array4), axis=1)\n",
    "print(result.shape)  # Output: (2, 4, 2)\n",
    "print (result)\n",
    "\n",
    "# Concatenation along axis 2\n",
    "result = np.concatenate((array3, array4), axis=2)\n",
    "print(result.shape)  # Output: (2, 2, 4)\n",
    "print (result)"
   ]
  },
  {
   "cell_type": "code",
   "execution_count": null,
   "id": "53154935-7730-414a-b2c3-8a7e1427a2ad",
   "metadata": {},
   "outputs": [],
   "source": []
  }
 ],
 "metadata": {
  "kernelspec": {
   "display_name": "Python 3 (ipykernel)",
   "language": "python",
   "name": "python3"
  },
  "language_info": {
   "codemirror_mode": {
    "name": "ipython",
    "version": 3
   },
   "file_extension": ".py",
   "mimetype": "text/x-python",
   "name": "python",
   "nbconvert_exporter": "python",
   "pygments_lexer": "ipython3",
   "version": "3.11.7"
  }
 },
 "nbformat": 4,
 "nbformat_minor": 5
}
